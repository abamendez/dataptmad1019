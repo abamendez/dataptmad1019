{
 "cells": [
  {
   "cell_type": "code",
   "execution_count": 1,
   "metadata": {},
   "outputs": [],
   "source": [
    "#1. Import the NUMPY package under the name np.\n",
    "\n",
    "import numpy as np\n"
   ]
  },
  {
   "cell_type": "code",
   "execution_count": 3,
   "metadata": {},
   "outputs": [
    {
     "name": "stdout",
     "output_type": "stream",
     "text": [
      "1.17.2\n"
     ]
    }
   ],
   "source": [
    "#2. Print the NUMPY version and the configuration.\n",
    "\n",
    "\n",
    "print(np.version.version)"
   ]
  },
  {
   "cell_type": "code",
   "execution_count": 46,
   "metadata": {},
   "outputs": [
    {
     "name": "stdout",
     "output_type": "stream",
     "text": [
      "[[[0.90351898 0.03257531 0.21087203 0.82679777 0.91778407]\n",
      "  [0.32205202 0.01016717 0.59018142 0.96254676 0.85020292]\n",
      "  [0.00718924 0.66377599 0.86196974 0.13666915 0.96749287]]\n",
      "\n",
      " [[0.66751745 0.78193736 0.32688624 0.86924399 0.49012018]\n",
      "  [0.51688032 0.1916246  0.74869136 0.33576189 0.64678863]\n",
      "  [0.8131695  0.87647506 0.40913831 0.30224145 0.02658269]]]\n",
      "[[[0.56931684 0.01658483 0.50256423 0.34368043 0.80646261]\n",
      "  [0.3637914  0.17332438 0.22728303 0.00608359 0.1643845 ]]\n",
      "\n",
      " [[0.95728287 0.28812982 0.2828369  0.5180439  0.95469191]\n",
      "  [0.85838048 0.23859552 0.70180266 0.75215604 0.97207752]]\n",
      "\n",
      " [[0.40922256 0.09174706 0.71635863 0.49876294 0.90917137]\n",
      "  [0.05836101 0.13177143 0.76127528 0.59986465 0.42852683]]]\n",
      "[[[0 0 0 0 0]\n",
      "  [0 0 0 0 0]]\n",
      "\n",
      " [[0 0 0 0 0]\n",
      "  [0 0 0 0 0]]\n",
      "\n",
      " [[0 0 0 0 0]\n",
      "  [0 0 0 0 0]]]\n"
     ]
    }
   ],
   "source": [
    "#3. Generate a 2x3x5 3-dimensional array with random values. Assign the array to variable \"a\"\n",
    "# Challenge: there are at least three easy ways that use numpy to generate random arrays. How many ways can you find?\n",
    "\n",
    "a = np.random.random(((2,3,5)))\n",
    "i = np.random.rand(3,2,5)\n",
    "j = np.random.randint(1, size=(3,2,5))\n",
    "\n",
    "print(a)\n",
    "\n",
    "print(i)\n",
    "\n",
    "print(j)\n",
    "\n"
   ]
  },
  {
   "cell_type": "code",
   "execution_count": 33,
   "metadata": {},
   "outputs": [
    {
     "name": "stdout",
     "output_type": "stream",
     "text": [
      "[[[0.24404378 0.86765893 0.63687325 0.73980948 0.69215992]\n",
      "  [0.94573206 0.57673414 0.32475212 0.05243117 0.73331158]]\n",
      "\n",
      " [[0.46729097 0.99884879 0.71511798 0.51253014 0.30686601]\n",
      "  [0.58796628 0.03933295 0.17675136 0.45738361 0.6143755 ]]\n",
      "\n",
      " [[0.93942193 0.04983016 0.20645307 0.00276982 0.84151275]\n",
      "  [0.98039425 0.67270323 0.12984595 0.61284882 0.7884182 ]]]\n"
     ]
    }
   ],
   "source": [
    "#4. Print a.\n",
    "\n",
    "print(a)\n"
   ]
  },
  {
   "cell_type": "code",
   "execution_count": 52,
   "metadata": {},
   "outputs": [],
   "source": [
    "#5. Create a 5x2x3 3-dimensional array with all values equaling 1.\n",
    "#Assign the array to variable \"b\"\n",
    "\n",
    "\n",
    "b= np.ones(((5,2,3)))"
   ]
  },
  {
   "cell_type": "code",
   "execution_count": 53,
   "metadata": {},
   "outputs": [
    {
     "name": "stdout",
     "output_type": "stream",
     "text": [
      "[[[1. 1. 1.]\n",
      "  [1. 1. 1.]]\n",
      "\n",
      " [[1. 1. 1.]\n",
      "  [1. 1. 1.]]\n",
      "\n",
      " [[1. 1. 1.]\n",
      "  [1. 1. 1.]]\n",
      "\n",
      " [[1. 1. 1.]\n",
      "  [1. 1. 1.]]\n",
      "\n",
      " [[1. 1. 1.]\n",
      "  [1. 1. 1.]]]\n"
     ]
    }
   ],
   "source": [
    "#6. Print b.\n",
    "\n",
    "print(b)"
   ]
  },
  {
   "cell_type": "code",
   "execution_count": 54,
   "metadata": {},
   "outputs": [
    {
     "name": "stdout",
     "output_type": "stream",
     "text": [
      "30\n",
      "30\n"
     ]
    }
   ],
   "source": [
    "\n",
    "#7. Do a and b have the same size? How do you prove that in Python code?\n",
    "\n",
    "\n",
    "print(a.size)\n",
    "\n",
    "\n",
    "print(b.size)\n",
    "\n"
   ]
  },
  {
   "cell_type": "code",
   "execution_count": 55,
   "metadata": {},
   "outputs": [
    {
     "ename": "ValueError",
     "evalue": "operands could not be broadcast together with shapes (2,3,5) (5,2,3) ",
     "output_type": "error",
     "traceback": [
      "\u001b[0;31m---------------------------------------------------------------------------\u001b[0m",
      "\u001b[0;31mValueError\u001b[0m                                Traceback (most recent call last)",
      "\u001b[0;32m<ipython-input-55-6fca1e85d020>\u001b[0m in \u001b[0;36m<module>\u001b[0;34m\u001b[0m\n\u001b[1;32m      2\u001b[0m \u001b[0;34m\u001b[0m\u001b[0m\n\u001b[1;32m      3\u001b[0m \u001b[0;34m\u001b[0m\u001b[0m\n\u001b[0;32m----> 4\u001b[0;31m \u001b[0ma\u001b[0m \u001b[0;34m+\u001b[0m \u001b[0mb\u001b[0m\u001b[0;34m\u001b[0m\u001b[0;34m\u001b[0m\u001b[0m\n\u001b[0m\u001b[1;32m      5\u001b[0m \u001b[0;34m\u001b[0m\u001b[0m\n\u001b[1;32m      6\u001b[0m \u001b[0;34m\u001b[0m\u001b[0m\n",
      "\u001b[0;31mValueError\u001b[0m: operands could not be broadcast together with shapes (2,3,5) (5,2,3) "
     ]
    }
   ],
   "source": [
    "\n",
    "#8. Are you able to add a and b? Why or why not?\n",
    "\n",
    "\n",
    "a + b \n",
    "\n",
    "\n"
   ]
  },
  {
   "cell_type": "code",
   "execution_count": 65,
   "metadata": {},
   "outputs": [
    {
     "name": "stdout",
     "output_type": "stream",
     "text": [
      "(2, 3, 5)\n",
      "[[[1. 1. 1. 1. 1.]\n",
      "  [1. 1. 1. 1. 1.]\n",
      "  [1. 1. 1. 1. 1.]]\n",
      "\n",
      " [[1. 1. 1. 1. 1.]\n",
      "  [1. 1. 1. 1. 1.]\n",
      "  [1. 1. 1. 1. 1.]]]\n"
     ]
    }
   ],
   "source": [
    "#9. Transpose b so that it has the same structure of a (i.e. become a 2x3x5 array). Assign the transposed array to varialbe \"c\".\n",
    "\n",
    "\n",
    "c=b.transpose(1,2,0)\n",
    "\n",
    "print(c.shape)\n",
    "print(c)\n",
    "\n",
    "\n"
   ]
  },
  {
   "cell_type": "code",
   "execution_count": 66,
   "metadata": {},
   "outputs": [
    {
     "name": "stdout",
     "output_type": "stream",
     "text": [
      "[[[1.90351898 1.03257531 1.21087203 1.82679777 1.91778407]\n",
      "  [1.32205202 1.01016717 1.59018142 1.96254676 1.85020292]\n",
      "  [1.00718924 1.66377599 1.86196974 1.13666915 1.96749287]]\n",
      "\n",
      " [[1.66751745 1.78193736 1.32688624 1.86924399 1.49012018]\n",
      "  [1.51688032 1.1916246  1.74869136 1.33576189 1.64678863]\n",
      "  [1.8131695  1.87647506 1.40913831 1.30224145 1.02658269]]]\n"
     ]
    }
   ],
   "source": [
    "#10. Try to add a and c. Now it should work. Assign the sum to varialbe \"d\". But why does it work now?\n",
    "\n",
    "\n",
    "d = a + c\n",
    "\n",
    "print(d)\n",
    "\n"
   ]
  },
  {
   "cell_type": "code",
   "execution_count": 67,
   "metadata": {},
   "outputs": [
    {
     "name": "stdout",
     "output_type": "stream",
     "text": [
      "[[[0.90351898 0.03257531 0.21087203 0.82679777 0.91778407]\n",
      "  [0.32205202 0.01016717 0.59018142 0.96254676 0.85020292]\n",
      "  [0.00718924 0.66377599 0.86196974 0.13666915 0.96749287]]\n",
      "\n",
      " [[0.66751745 0.78193736 0.32688624 0.86924399 0.49012018]\n",
      "  [0.51688032 0.1916246  0.74869136 0.33576189 0.64678863]\n",
      "  [0.8131695  0.87647506 0.40913831 0.30224145 0.02658269]]]\n",
      "[[[1.90351898 1.03257531 1.21087203 1.82679777 1.91778407]\n",
      "  [1.32205202 1.01016717 1.59018142 1.96254676 1.85020292]\n",
      "  [1.00718924 1.66377599 1.86196974 1.13666915 1.96749287]]\n",
      "\n",
      " [[1.66751745 1.78193736 1.32688624 1.86924399 1.49012018]\n",
      "  [1.51688032 1.1916246  1.74869136 1.33576189 1.64678863]\n",
      "  [1.8131695  1.87647506 1.40913831 1.30224145 1.02658269]]]\n"
     ]
    }
   ],
   "source": [
    "#11. Print a and d. Notice the difference and relation of the two array in terms of the values? Explain.\n",
    "\n",
    "print(a)\n",
    "print(d)"
   ]
  },
  {
   "cell_type": "code",
   "execution_count": 68,
   "metadata": {},
   "outputs": [
    {
     "name": "stdout",
     "output_type": "stream",
     "text": [
      "[[[0.90351898 0.03257531 0.21087203 0.82679777 0.91778407]\n",
      "  [0.32205202 0.01016717 0.59018142 0.96254676 0.85020292]\n",
      "  [0.00718924 0.66377599 0.86196974 0.13666915 0.96749287]]\n",
      "\n",
      " [[0.66751745 0.78193736 0.32688624 0.86924399 0.49012018]\n",
      "  [0.51688032 0.1916246  0.74869136 0.33576189 0.64678863]\n",
      "  [0.8131695  0.87647506 0.40913831 0.30224145 0.02658269]]]\n"
     ]
    }
   ],
   "source": [
    "#12. Multiply a and c. Assign the result to e.\n",
    "\n",
    "e=a*c\n",
    "\n",
    "print(e)\n",
    "\n",
    "\n",
    "\n"
   ]
  },
  {
   "cell_type": "code",
   "execution_count": 69,
   "metadata": {},
   "outputs": [
    {
     "name": "stdout",
     "output_type": "stream",
     "text": [
      "[[[0.90351898 0.03257531 0.21087203 0.82679777 0.91778407]\n",
      "  [0.32205202 0.01016717 0.59018142 0.96254676 0.85020292]\n",
      "  [0.00718924 0.66377599 0.86196974 0.13666915 0.96749287]]\n",
      "\n",
      " [[0.66751745 0.78193736 0.32688624 0.86924399 0.49012018]\n",
      "  [0.51688032 0.1916246  0.74869136 0.33576189 0.64678863]\n",
      "  [0.8131695  0.87647506 0.40913831 0.30224145 0.02658269]]]\n",
      "[[[0.90351898 0.03257531 0.21087203 0.82679777 0.91778407]\n",
      "  [0.32205202 0.01016717 0.59018142 0.96254676 0.85020292]\n",
      "  [0.00718924 0.66377599 0.86196974 0.13666915 0.96749287]]\n",
      "\n",
      " [[0.66751745 0.78193736 0.32688624 0.86924399 0.49012018]\n",
      "  [0.51688032 0.1916246  0.74869136 0.33576189 0.64678863]\n",
      "  [0.8131695  0.87647506 0.40913831 0.30224145 0.02658269]]]\n"
     ]
    }
   ],
   "source": [
    "#13. Does e equal to a? Why or why not?\n",
    "\n",
    "\n",
    "print(a)\n",
    "print(e)\n"
   ]
  },
  {
   "cell_type": "code",
   "execution_count": 74,
   "metadata": {},
   "outputs": [
    {
     "name": "stdout",
     "output_type": "stream",
     "text": [
      "1.9674928722430343\n",
      "1.0071892398652578\n",
      "1.5422284828313346\n"
     ]
    }
   ],
   "source": [
    "#14. Identify the max, min, and mean values in d. Assign those values to variables \"d_max\", \"d_min\", and \"d_mean\"\n",
    "\n",
    "d_max=np.max(d)\n",
    "print(d_max)\n",
    "d_min=np.min(d)\n",
    "print(d_min)\n",
    "d_mean=np.mean(d)\n",
    "print(d_mean)\n"
   ]
  },
  {
   "cell_type": "code",
   "execution_count": 79,
   "metadata": {},
   "outputs": [
    {
     "name": "stdout",
     "output_type": "stream",
     "text": [
      "[[[0.90351898 0.03257531 0.21087203 0.82679777 0.91778407]\n",
      "  [0.32205202 0.01016717 0.59018142 0.96254676 0.85020292]\n",
      "  [0.00718924 0.66377599 0.86196974 0.13666915 0.96749287]]\n",
      "\n",
      " [[0.66751745 0.78193736 0.32688624 0.86924399 0.49012018]\n",
      "  [0.51688032 0.1916246  0.74869136 0.33576189 0.64678863]\n",
      "  [0.8131695  0.87647506 0.40913831 0.30224145 0.02658269]]]\n"
     ]
    }
   ],
   "source": [
    "#15. Now we want to label the values in d. First create an empty array \"f\" with the same shape (i.e. 2x3x5) as d using `np.empty`.\n",
    "\n",
    "\n",
    "f = np.empty((2,3,5))\n",
    "\n",
    "print(f)\n"
   ]
  },
  {
   "cell_type": "code",
   "execution_count": 80,
   "metadata": {},
   "outputs": [
    {
     "data": {
      "text/plain": [
       "\"\\n#16. Populate the values in f. For each value in d, if it's larger than d_min but smaller than d_mean, assign 25 to the corresponding value in f.\\nIf a value in d is larger than d_mean but smaller than d_max, assign 75 to the corresponding value in f.\\nIf a value equals to d_mean, assign 50 to the corresponding value in f.\\nAssign 0 to the corresponding value(s) in f for d_min in d.\\nAssign 100 to the corresponding value(s) in f for d_max in d.\\nIn the end, f should have only the following values: 0, 25, 50, 75, and 100.\\nNote: you don't have to use Numpy in this question.\\n\""
      ]
     },
     "execution_count": 80,
     "metadata": {},
     "output_type": "execute_result"
    }
   ],
   "source": [
    "\n",
    "\"\"\"\n",
    "#16. Populate the values in f. For each value in d, if it's larger than d_min but smaller than d_mean, assign 25 to the corresponding value in f.\n",
    "If a value in d is larger than d_mean but smaller than d_max, assign 75 to the corresponding value in f.\n",
    "If a value equals to d_mean, assign 50 to the corresponding value in f.\n",
    "Assign 0 to the corresponding value(s) in f for d_min in d.\n",
    "Assign 100 to the corresponding value(s) in f for d_max in d.\n",
    "In the end, f should have only the following values: 0, 25, 50, 75, and 100.\n",
    "Note: you don't have to use Numpy in this question.\n",
    "\"\"\"\n",
    "\n",
    "\n",
    "\n",
    "\n",
    "\n"
   ]
  },
  {
   "cell_type": "code",
   "execution_count": 18,
   "metadata": {},
   "outputs": [
    {
     "data": {
      "text/plain": [
       "'\\n#17. Print d and f. Do you have your expected f?\\nFor instance, if your d is:\\narray([[[1.85836099, 1.67064465, 1.62576044, 1.40243961, 1.88454931],\\n        [1.75354326, 1.69403643, 1.36729252, 1.61415071, 1.12104981],\\n        [1.72201435, 1.1862918 , 1.87078449, 1.7726778 , 1.88180042]],\\n\\n       [[1.44747908, 1.31673383, 1.02000951, 1.52218947, 1.97066381],\\n        [1.79129243, 1.74983003, 1.96028037, 1.85166831, 1.65450881],\\n        [1.18068344, 1.9587381 , 1.00656599, 1.93402165, 1.73514584]]])\\n\\nYour f should be:\\narray([[[ 75.,  75.,  75.,  25.,  75.],\\n        [ 75.,  75.,  25.,  25.,  25.],\\n        [ 75.,  25.,  75.,  75.,  75.]],\\n\\n       [[ 25.,  25.,  25.,  25., 100.],\\n        [ 75.,  75.,  75.,  75.,  75.],\\n        [ 25.,  75.,   0.,  75.,  75.]]])\\n'"
      ]
     },
     "execution_count": 18,
     "metadata": {},
     "output_type": "execute_result"
    }
   ],
   "source": [
    "\"\"\"\n",
    "#17. Print d and f. Do you have your expected f?\n",
    "For instance, if your d is:\n",
    "array([[[1.85836099, 1.67064465, 1.62576044, 1.40243961, 1.88454931],\n",
    "        [1.75354326, 1.69403643, 1.36729252, 1.61415071, 1.12104981],\n",
    "        [1.72201435, 1.1862918 , 1.87078449, 1.7726778 , 1.88180042]],\n",
    "\n",
    "       [[1.44747908, 1.31673383, 1.02000951, 1.52218947, 1.97066381],\n",
    "        [1.79129243, 1.74983003, 1.96028037, 1.85166831, 1.65450881],\n",
    "        [1.18068344, 1.9587381 , 1.00656599, 1.93402165, 1.73514584]]])\n",
    "\n",
    "Your f should be:\n",
    "array([[[ 75.,  75.,  75.,  25.,  75.],\n",
    "        [ 75.,  75.,  25.,  25.,  25.],\n",
    "        [ 75.,  25.,  75.,  75.,  75.]],\n",
    "\n",
    "       [[ 25.,  25.,  25.,  25., 100.],\n",
    "        [ 75.,  75.,  75.,  75.,  75.],\n",
    "        [ 25.,  75.,   0.,  75.,  75.]]])\n",
    "\"\"\"\n",
    "\n",
    "\n",
    "\n",
    "\n",
    "\n",
    "\n"
   ]
  },
  {
   "cell_type": "code",
   "execution_count": 81,
   "metadata": {},
   "outputs": [
    {
     "data": {
      "text/plain": [
       "'\\n#18. Bonus question: instead of using numbers (i.e. 0, 25, 50, 75, and 100), how to use string values \\n(\"A\", \"B\", \"C\", \"D\", and \"E\") to label the array elements? You are expecting the result to be:\\narray([[[ \\'D\\',  \\'D\\',  \\'D\\',  \\'B\\',  \\'D\\'],\\n        [ \\'D\\',  \\'D\\',  \\'B\\',  \\'B\\',  \\'B\\'],\\n        [ \\'D\\',  \\'B\\',  \\'D\\',  \\'D\\',  \\'D\\']],\\n\\n       [[ \\'B\\',  \\'B\\',  \\'B\\',  \\'B\\',  \\'E\\'],\\n        [ \\'D\\',  \\'D\\',  \\'D\\',  \\'D\\',  \\'D\\'],\\n        [ \\'B\\',  \\'D\\',   \\'A\\',  \\'D\\', \\'D\\']]])\\n        \\nAgain, you don\\'t need Numpy in this question.'"
      ]
     },
     "execution_count": 81,
     "metadata": {},
     "output_type": "execute_result"
    }
   ],
   "source": [
    "\"\"\"\n",
    "#18. Bonus question: instead of using numbers (i.e. 0, 25, 50, 75, and 100), how to use string values \n",
    "(\"A\", \"B\", \"C\", \"D\", and \"E\") to label the array elements? You are expecting the result to be:\n",
    "array([[[ 'D',  'D',  'D',  'B',  'D'],\n",
    "        [ 'D',  'D',  'B',  'B',  'B'],\n",
    "        [ 'D',  'B',  'D',  'D',  'D']],\n",
    "\n",
    "       [[ 'B',  'B',  'B',  'B',  'E'],\n",
    "        [ 'D',  'D',  'D',  'D',  'D'],\n",
    "        [ 'B',  'D',   'A',  'D', 'D']]])\n",
    "        \n",
    "Again, you don't need Numpy in this question.\"\"\"\n",
    "\n",
    "\n",
    "\n",
    "\n",
    "\n",
    "\n",
    "\n"
   ]
  },
  {
   "cell_type": "code",
   "execution_count": null,
   "metadata": {},
   "outputs": [],
   "source": []
  }
 ],
 "metadata": {
  "kernelspec": {
   "display_name": "Python [conda env:data_env]",
   "language": "python",
   "name": "conda-env-data_env-py"
  },
  "language_info": {
   "codemirror_mode": {
    "name": "ipython",
    "version": 3
   },
   "file_extension": ".py",
   "mimetype": "text/x-python",
   "name": "python",
   "nbconvert_exporter": "python",
   "pygments_lexer": "ipython3",
   "version": "3.7.5"
  }
 },
 "nbformat": 4,
 "nbformat_minor": 2
}
